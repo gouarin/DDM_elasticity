{
 "cells": [
  {
   "cell_type": "markdown",
   "metadata": {},
   "source": [
    "# Test Number 1: BNN without GenEO coarse space"
   ]
  },
  {
   "cell_type": "code",
   "execution_count": 45,
   "metadata": {},
   "outputs": [
    {
     "name": "stdout",
     "output_type": "stream",
     "text": [
      "Subdomain number 0 contributes 0 coarse vectors as zero energy modes of local solver\n",
      "Subdomain number 0 contributes 0 coarse vectors in total\n",
      "Subdomain number 1 contributes 3 coarse vectors as zero energy modes of local solver\n",
      "Subdomain number 1 contributes 3 coarse vectors in total\n",
      "Subdomain number 3 contributes 3 coarse vectors as zero energy modes of local solver\n",
      "Subdomain number 3 contributes 3 coarse vectors in total\n",
      "Subdomain number 2 contributes 3 coarse vectors as zero energy modes of local solver\n",
      "Subdomain number 2 contributes 3 coarse vectors in total\n",
      "There are 9 vectors in the coarse space.\n",
      "  0 KSP Residual norm 2.629268161104e+04 \n",
      "  1 KSP Residual norm 7.136364291770e+03 \n",
      "  2 KSP Residual norm 4.935460263904e+03 \n",
      "  3 KSP Residual norm 5.263061082193e+01 \n",
      "  4 KSP Residual norm 5.859924567202e+03 \n",
      "  5 KSP Residual norm 1.097688404651e+03 \n",
      "  6 KSP Residual norm 1.091619345576e+02 \n",
      "  7 KSP Residual norm 8.764701338926e+00 \n",
      "  8 KSP Residual norm 8.307387085930e+00 \n",
      "  9 KSP Residual norm 5.309972397652e+02 \n",
      " 10 KSP Residual norm 6.659178549110e+01 \n",
      " 11 KSP Residual norm 5.715351918020e+02 \n",
      " 12 KSP Residual norm 3.128372712179e+02 \n",
      " 13 KSP Residual norm 1.642949117357e+02 \n",
      " 14 KSP Residual norm 1.085060287976e+01 \n",
      " 15 KSP Residual norm 3.333510084987e+00 \n",
      " 16 KSP Residual norm 1.886181129501e+01 \n",
      " 17 KSP Residual norm 1.697021707416e+01 \n",
      " 18 KSP Residual norm 1.327762573866e+01 \n",
      " 19 KSP Residual norm 8.915948486329e+02 \n",
      " 20 KSP Residual norm 1.054326380299e+02 \n",
      " 21 KSP Residual norm 5.644809719455e+00 \n",
      " 22 KSP Residual norm 5.210417642876e+00 \n",
      " 23 KSP Residual norm 1.826807138524e+00 \n",
      " 24 KSP Residual norm 2.908692138454e+00 \n",
      " 25 KSP Residual norm 2.042392663358e+00 \n",
      " 26 KSP Residual norm 2.911988906628e+01 \n",
      " 27 KSP Residual norm 1.604592643442e+01 \n",
      " 28 KSP Residual norm 8.324407753889e-01 \n",
      " 29 KSP Residual norm 1.147263303865e+00 \n",
      " 30 KSP Residual norm 2.434171078005e-01 \n",
      " 31 KSP Residual norm 3.682320220912e-01 \n",
      " 32 KSP Residual norm 7.898316333517e-01 \n",
      " 33 KSP Residual norm 2.662385932760e-02 \n",
      " 34 KSP Residual norm 3.097123130200e-01 \n",
      " 35 KSP Residual norm 1.283038314642e+01 \n",
      " 36 KSP Residual norm 4.489826902973e+00 \n",
      " 37 KSP Residual norm 4.352479459457e+00 \n",
      " 38 KSP Residual norm 8.917202462566e-01 \n",
      " 39 KSP Residual norm 9.832130609359e-01 \n",
      " 40 KSP Residual norm 4.489743047594e-01 \n",
      " 41 KSP Residual norm 1.215248275094e-02 \n",
      " 42 KSP Residual norm 8.230959358361e-03 \n",
      " 43 KSP Residual norm 2.874335442318e+00 \n",
      " 44 KSP Residual norm 1.529920262288e+00 \n",
      " 45 KSP Residual norm 6.671825356686e-01 \n",
      " 46 KSP Residual norm 3.393542716396e-01 \n",
      " 47 KSP Residual norm 1.162219810116e-01 \n",
      " 48 KSP Residual norm 2.974289917490e-02 \n",
      " 49 KSP Residual norm 3.362769459608e-02 \n",
      " 50 KSP Residual norm 2.513774919880e-02 \n",
      " 51 KSP Residual norm 1.989313739448e-02 \n",
      " 52 KSP Residual norm 4.921830682312e-02 \n",
      " 53 KSP Residual norm 1.183149919744e-02 \n",
      " 54 KSP Residual norm 4.766683800587e-02 \n",
      " 55 KSP Residual norm 3.628843619296e-02 \n",
      " 56 KSP Residual norm 8.604877024301e-03 \n",
      " 57 KSP Residual norm 4.360948128792e-02 \n",
      " 58 KSP Residual norm 2.190099361255e-01 \n",
      " 59 KSP Residual norm 2.398721563731e-02 \n",
      " 60 KSP Residual norm 3.650662739921e-02 \n",
      " 61 KSP Residual norm 1.307885226512e-01 \n",
      " 62 KSP Residual norm 1.613398712099e-01 \n",
      " 63 KSP Residual norm 1.018215138488e+00 \n",
      " 64 KSP Residual norm 4.227549051034e-01 \n",
      " 65 KSP Residual norm 1.360750168712e-01 \n",
      " 66 KSP Residual norm 4.887286811596e-03 \n",
      " 67 KSP Residual norm 1.761925772117e-03 \n",
      " 68 KSP Residual norm 4.297750892963e-02 \n",
      " 69 KSP Residual norm 6.802650933205e-03 \n",
      " 70 KSP Residual norm 2.287822734419e-03 \n",
      " 71 KSP Residual norm 7.672557063668e-04 \n",
      " 72 KSP Residual norm 5.659556397118e-04 \n",
      " 73 KSP Residual norm 1.272841999674e-03 \n",
      " 74 KSP Residual norm 1.263124663795e-03 \n",
      " 75 KSP Residual norm 6.224832880075e-03 \n",
      " 76 KSP Residual norm 6.696140188280e-03 \n",
      " 77 KSP Residual norm 6.231459183603e-03 \n",
      " 78 KSP Residual norm 5.468741334687e-03 \n",
      " 79 KSP Residual norm 1.848364756749e-03 \n",
      " 80 KSP Residual norm 7.202295013190e-04 \n",
      " 81 KSP Residual norm 7.728829217132e-03 \n",
      " 82 KSP Residual norm 4.488589370964e-03 \n",
      " 83 KSP Residual norm 9.642489146270e-03 \n",
      " 84 KSP Residual norm 7.556663071420e-03 \n",
      " 85 KSP Residual norm 4.213028585351e-03 \n",
      " 86 KSP Residual norm 3.218676491818e-03 \n",
      " 87 KSP Residual norm 4.437745323049e-03 \n",
      " 88 KSP Residual norm 1.287725176963e-02 \n",
      " 89 KSP Residual norm 1.148424124291e-02 \n",
      " 90 KSP Residual norm 3.726835103485e-03 \n",
      " 91 KSP Residual norm 8.715029554457e-03 \n",
      " 92 KSP Residual norm 1.672097277899e-02 \n",
      " 93 KSP Residual norm 1.581191856834e-02 \n",
      " 94 KSP Residual norm 1.425305148802e-02 \n",
      " 95 KSP Residual norm 2.883556108956e-03 \n",
      " 96 KSP Residual norm 5.449908945135e-04 \n",
      " 97 KSP Residual norm 1.008752787823e-03 \n",
      " 98 KSP Residual norm 1.684289196508e-03 \n",
      " 99 KSP Residual norm 3.430930480611e-04 \n",
      "100 KSP Residual norm 1.471797479865e-04 \n",
      "101 KSP Residual norm 3.907872912528e-05 \n"
     ]
    }
   ],
   "source": [
    "!mpiexec -np 4 python demo_GenEO_2d.py -AMPCG_verbose -ksp_monitor -PCBNN_verbose -PCBNN_GenEO false"
   ]
  },
  {
   "cell_type": "code",
   "execution_count": 46,
   "metadata": {},
   "outputs": [],
   "source": [
    "from plot import plot_solution"
   ]
  },
  {
   "cell_type": "code",
   "execution_count": 47,
   "metadata": {},
   "outputs": [
    {
     "data": {
      "application/vnd.jupyter.widget-view+json": {
       "model_id": "415f2edd908041048aaa38a8c3c56ddb",
       "version_major": 2,
       "version_minor": 0
      },
      "text/plain": [
       "HBox(children=(Renderer(camera=PerspectiveCamera(position=(0.0, 0.0, 13.0), quaternion=(0.0, 0.0, 0.0, 1.0), s…"
      ]
     },
     "metadata": {},
     "output_type": "display_data"
    }
   ],
   "source": [
    "plot_solution('output_2d', 'solution_2d.vts')"
   ]
  },
  {
   "cell_type": "markdown",
   "metadata": {},
   "source": [
    "# Test Number 2: BNN with GenEO coarse space"
   ]
  },
  {
   "cell_type": "code",
   "execution_count": 48,
   "metadata": {},
   "outputs": [
    {
     "name": "stdout",
     "output_type": "stream",
     "text": [
      "Subdomain number 0 contributes 0 coarse vectors as zero energy modes of local solver\n",
      "Subdomain number 2 contributes 3 coarse vectors as zero energy modes of local solver\n",
      "Subdomain number 3 contributes 3 coarse vectors as zero energy modes of local solver\n",
      "Subdomain number 1 contributes 3 coarse vectors as zero energy modes of local solver\n",
      "GenEO eigenvalue number 0 for lambdamax in subdomain 1: (1.4945905664998919e-06+0j)\n",
      "GenEO eigenvalue number 1 for lambdamax in subdomain 1: (1.3826304536173795e-05+0j)\n",
      "GenEO eigenvalue number 2 for lambdamax in subdomain 1: (4.50548626988303e-05+0j)\n",
      "GenEO eigenvalue number 3 for lambdamax in subdomain 1: (0.05405868128473561+0j)\n",
      "GenEO eigenvalue number 4 for lambdamax in subdomain 1: (0.05405900902775108+0j)\n",
      "GenEO eigenvalue number 5 for lambdamax in subdomain 1: (0.056663048125548836+0j)\n",
      "GenEO eigenvalue number 6 for lambdamax in subdomain 1: (0.057079622868545725+0j)\n",
      "GenEO eigenvalue number 7 for lambdamax in subdomain 1: (0.15901212849795607+0j)\n",
      "GenEO eigenvalue number 8 for lambdamax in subdomain 1: (0.15905866059813625+0j)\n",
      "GenEO eigenvalue number 9 for lambdamax in subdomain 1: (0.22127754627469245+0j) <-- not selected (> 0.2)\n",
      "Subdomain number 1 contributes 12 coarse vectors after first GenEO\n",
      "Subdomain number 1 contributes 12 coarse vectors in total\n",
      "GenEO eigenvalue number 0 for lambdamax in subdomain 2: (1.4945905664998919e-06+0j)\n",
      "GenEO eigenvalue number 1 for lambdamax in subdomain 2: (1.3826304536173795e-05+0j)\n",
      "GenEO eigenvalue number 2 for lambdamax in subdomain 2: (4.50548626988303e-05+0j)\n",
      "GenEO eigenvalue number 3 for lambdamax in subdomain 2: (0.05405868128473561+0j)\n",
      "GenEO eigenvalue number 4 for lambdamax in subdomain 2: (0.05405900902775108+0j)\n",
      "GenEO eigenvalue number 5 for lambdamax in subdomain 2: (0.056663048125548836+0j)\n",
      "GenEO eigenvalue number 6 for lambdamax in subdomain 2: (0.057079622868545725+0j)\n",
      "GenEO eigenvalue number 7 for lambdamax in subdomain 2: (0.15901212849795607+0j)\n",
      "GenEO eigenvalue number 8 for lambdamax in subdomain 2: (0.15905866059813625+0j)\n",
      "GenEO eigenvalue number 9 for lambdamax in subdomain 2: (0.22127754627469245+0j) <-- not selected (> 0.2)\n",
      "Subdomain number 2 contributes 12 coarse vectors after first GenEO\n",
      "Subdomain number 2 contributes 12 coarse vectors in total\n",
      "GenEO eigenvalue number 0 for lambdamax in subdomain 0: (0.00031732419878850027+0j)\n",
      "GenEO eigenvalue number 1 for lambdamax in subdomain 0: (0.000337024026159405+0j)\n",
      "GenEO eigenvalue number 2 for lambdamax in subdomain 0: (0.02828240156782746+0j)\n",
      "GenEO eigenvalue number 3 for lambdamax in subdomain 0: (0.028283168511413152+0j)\n",
      "GenEO eigenvalue number 4 for lambdamax in subdomain 0: (0.11198298627142439+0j)\n",
      "GenEO eigenvalue number 5 for lambdamax in subdomain 0: (0.11219184197639483+0j)\n",
      "GenEO eigenvalue number 6 for lambdamax in subdomain 0: (0.22129077270330266+0j) <-- not selected (> 0.2)\n",
      "GenEO eigenvalue number 7 for lambdamax in subdomain 0: (0.22129077350512905+0j) <-- not selected (> 0.2)\n",
      "GenEO eigenvalue number 8 for lambdamax in subdomain 0: (0.5564840670455389+0j) <-- not selected (> 0.2)\n",
      "GenEO eigenvalue number 9 for lambdamax in subdomain 0: (0.583981324318522+0j) <-- not selected (> 0.2)\n",
      "Subdomain number 0 contributes 6 coarse vectors after first GenEO\n",
      "This is BNN so eigmin = 1, no eigenvalue problem will be solved for eigmin\n",
      "Subdomain number 0 contributes 6 coarse vectors in total\n",
      "GenEO eigenvalue number 0 for lambdamax in subdomain 3: (2.1208234835773963e-05+0j)\n",
      "GenEO eigenvalue number 1 for lambdamax in subdomain 3: (3.185852816809118e-05+0j)\n",
      "GenEO eigenvalue number 2 for lambdamax in subdomain 3: (0.008267951049446151+0j)\n",
      "GenEO eigenvalue number 3 for lambdamax in subdomain 3: (0.22129069514149086+0j) <-- not selected (> 0.2)\n",
      "GenEO eigenvalue number 4 for lambdamax in subdomain 3: (0.2212906978919247+0j) <-- not selected (> 0.2)\n",
      "GenEO eigenvalue number 5 for lambdamax in subdomain 3: (0.5564838682522147+0j) <-- not selected (> 0.2)\n",
      "GenEO eigenvalue number 6 for lambdamax in subdomain 3: (0.5839813228930905+0j) <-- not selected (> 0.2)\n",
      "GenEO eigenvalue number 7 for lambdamax in subdomain 3: (0.5839813229104335+0j) <-- not selected (> 0.2)\n",
      "GenEO eigenvalue number 8 for lambdamax in subdomain 3: (0.6574284065235094+0j) <-- not selected (> 0.2)\n",
      "GenEO eigenvalue number 9 for lambdamax in subdomain 3: (0.6574287754614396+0j) <-- not selected (> 0.2)\n",
      "GenEO eigenvalue number 10 for lambdamax in subdomain 3: (0.8078884348443135+0j) <-- not selected (> 0.2)\n",
      "Subdomain number 3 contributes 6 coarse vectors after first GenEO\n",
      "Subdomain number 3 contributes 6 coarse vectors in total\n",
      "There are 36 vectors in the coarse space.\n",
      "  0 KSP Residual norm 2.853564388704e+00 \n",
      "  1 KSP Residual norm 4.966612147782e+00 \n",
      "  2 KSP Residual norm 2.582872667990e-01 \n",
      "  3 KSP Residual norm 1.538708885171e-02 \n",
      "  4 KSP Residual norm 1.367484533718e-03 \n",
      "  5 KSP Residual norm 3.263132527991e-03 \n",
      "  6 KSP Residual norm 8.954592264140e-05 \n",
      "  7 KSP Residual norm 3.459174817704e-05 \n",
      "  8 KSP Residual norm 8.138526381327e-07 \n"
     ]
    }
   ],
   "source": [
    "!mpiexec -np 4 python demo_GenEO_2d.py -AMPCG_verbose -ksp_monitor -PCBNN_verbose -PCBNN_GenEO true"
   ]
  },
  {
   "cell_type": "code",
   "execution_count": 49,
   "metadata": {},
   "outputs": [],
   "source": [
    "from plot import plot_solution"
   ]
  },
  {
   "cell_type": "code",
   "execution_count": 50,
   "metadata": {},
   "outputs": [
    {
     "data": {
      "application/vnd.jupyter.widget-view+json": {
       "model_id": "5e9e0c43a0954e63b7991918133dfa20",
       "version_major": 2,
       "version_minor": 0
      },
      "text/plain": [
       "HBox(children=(Renderer(camera=PerspectiveCamera(position=(0.0, 0.0, 13.0), quaternion=(0.0, 0.0, 0.0, 1.0), s…"
      ]
     },
     "metadata": {},
     "output_type": "display_data"
    }
   ],
   "source": [
    "plot_solution('output_2d', 'solution_2d.vts')"
   ]
  },
  {
   "cell_type": "markdown",
   "metadata": {},
   "source": [
    "# Test Number 3: BNN with GenEO coarse space and less strict tolerance than default\n",
    "By default the target is $\\lambda_{\\text{max}}^{\\text{target}} = 100$, here we ask for $\\lambda_{\\text{max}}^{\\text{target}} = 1000$"
   ]
  },
  {
   "cell_type": "code",
   "execution_count": 51,
   "metadata": {},
   "outputs": [
    {
     "name": "stdout",
     "output_type": "stream",
     "text": [
      "Subdomain number 1 contributes 3 coarse vectors as zero energy modes of local solver\n",
      "Subdomain number 2 contributes 3 coarse vectors as zero energy modes of local solver\n",
      "Subdomain number 3 contributes 3 coarse vectors as zero energy modes of local solver\n",
      "Subdomain number 0 contributes 0 coarse vectors as zero energy modes of local solver\n",
      "GenEO eigenvalue number 0 for lambdamax in subdomain 2: (1.4945905664998919e-06+0j)\n",
      "GenEO eigenvalue number 1 for lambdamax in subdomain 2: (1.3826304536173795e-05+0j)\n",
      "GenEO eigenvalue number 2 for lambdamax in subdomain 2: (4.50548626988303e-05+0j)\n",
      "GenEO eigenvalue number 3 for lambdamax in subdomain 2: (0.05405868128473561+0j) <-- not selected (> 0.002)\n",
      "GenEO eigenvalue number 4 for lambdamax in subdomain 2: (0.05405900902775108+0j) <-- not selected (> 0.002)\n",
      "GenEO eigenvalue number 5 for lambdamax in subdomain 2: (0.056663048125548836+0j) <-- not selected (> 0.002)\n",
      "GenEO eigenvalue number 6 for lambdamax in subdomain 2: (0.057079622868545725+0j) <-- not selected (> 0.002)\n",
      "GenEO eigenvalue number 7 for lambdamax in subdomain 2: (0.15901212849795607+0j) <-- not selected (> 0.002)\n",
      "GenEO eigenvalue number 8 for lambdamax in subdomain 2: (0.15905866059813625+0j) <-- not selected (> 0.002)\n",
      "GenEO eigenvalue number 9 for lambdamax in subdomain 2: (0.22127754627469245+0j) <-- not selected (> 0.002)\n",
      "Subdomain number 2 contributes 6 coarse vectors after first GenEO\n",
      "Subdomain number 2 contributes 6 coarse vectors in total\n",
      "GenEO eigenvalue number 0 for lambdamax in subdomain 1: (1.4945905664998919e-06+0j)\n",
      "GenEO eigenvalue number 1 for lambdamax in subdomain 1: (1.3826304536173795e-05+0j)\n",
      "GenEO eigenvalue number 2 for lambdamax in subdomain 1: (4.50548626988303e-05+0j)\n",
      "GenEO eigenvalue number 3 for lambdamax in subdomain 1: (0.05405868128473561+0j) <-- not selected (> 0.002)\n",
      "GenEO eigenvalue number 4 for lambdamax in subdomain 1: (0.05405900902775108+0j) <-- not selected (> 0.002)\n",
      "GenEO eigenvalue number 5 for lambdamax in subdomain 1: (0.056663048125548836+0j) <-- not selected (> 0.002)\n",
      "GenEO eigenvalue number 6 for lambdamax in subdomain 1: (0.057079622868545725+0j) <-- not selected (> 0.002)\n",
      "GenEO eigenvalue number 7 for lambdamax in subdomain 1: (0.15901212849795607+0j) <-- not selected (> 0.002)\n",
      "GenEO eigenvalue number 8 for lambdamax in subdomain 1: (0.15905866059813625+0j) <-- not selected (> 0.002)\n",
      "GenEO eigenvalue number 9 for lambdamax in subdomain 1: (0.22127754627469245+0j) <-- not selected (> 0.002)\n",
      "Subdomain number 1 contributes 6 coarse vectors after first GenEO\n",
      "Subdomain number 1 contributes 6 coarse vectors in total\n",
      "GenEO eigenvalue number 0 for lambdamax in subdomain 0: (0.00031732419878850027+0j)\n",
      "GenEO eigenvalue number 1 for lambdamax in subdomain 0: (0.000337024026159405+0j)\n",
      "GenEO eigenvalue number 2 for lambdamax in subdomain 0: (0.02828240156782746+0j) <-- not selected (> 0.002)\n",
      "GenEO eigenvalue number 3 for lambdamax in subdomain 0: (0.028283168511413152+0j) <-- not selected (> 0.002)\n",
      "GenEO eigenvalue number 4 for lambdamax in subdomain 0: (0.11198298627142439+0j) <-- not selected (> 0.002)\n",
      "GenEO eigenvalue number 5 for lambdamax in subdomain 0: (0.11219184197639483+0j) <-- not selected (> 0.002)\n",
      "GenEO eigenvalue number 6 for lambdamax in subdomain 0: (0.22129077270330266+0j) <-- not selected (> 0.002)\n",
      "GenEO eigenvalue number 7 for lambdamax in subdomain 0: (0.22129077350512905+0j) <-- not selected (> 0.002)\n",
      "GenEO eigenvalue number 8 for lambdamax in subdomain 0: (0.5564840670455389+0j) <-- not selected (> 0.002)\n",
      "GenEO eigenvalue number 9 for lambdamax in subdomain 0: (0.583981324318522+0j) <-- not selected (> 0.002)\n",
      "Subdomain number 0 contributes 2 coarse vectors after first GenEO\n",
      "This is BNN so eigmin = 1, no eigenvalue problem will be solved for eigmin\n",
      "Subdomain number 0 contributes 2 coarse vectors in total\n",
      "GenEO eigenvalue number 0 for lambdamax in subdomain 3: (2.1208234835773963e-05+0j)\n",
      "GenEO eigenvalue number 1 for lambdamax in subdomain 3: (3.185852816809118e-05+0j)\n",
      "GenEO eigenvalue number 2 for lambdamax in subdomain 3: (0.008267951049446151+0j) <-- not selected (> 0.002)\n",
      "GenEO eigenvalue number 3 for lambdamax in subdomain 3: (0.22129069514149086+0j) <-- not selected (> 0.002)\n",
      "GenEO eigenvalue number 4 for lambdamax in subdomain 3: (0.2212906978919247+0j) <-- not selected (> 0.002)\n",
      "GenEO eigenvalue number 5 for lambdamax in subdomain 3: (0.5564838682522147+0j) <-- not selected (> 0.002)\n",
      "GenEO eigenvalue number 6 for lambdamax in subdomain 3: (0.5839813228930905+0j) <-- not selected (> 0.002)\n",
      "GenEO eigenvalue number 7 for lambdamax in subdomain 3: (0.5839813229104335+0j) <-- not selected (> 0.002)\n",
      "GenEO eigenvalue number 8 for lambdamax in subdomain 3: (0.6574284065235094+0j) <-- not selected (> 0.002)\n",
      "GenEO eigenvalue number 9 for lambdamax in subdomain 3: (0.6574287754614396+0j) <-- not selected (> 0.002)\n",
      "GenEO eigenvalue number 10 for lambdamax in subdomain 3: (0.8078884348443135+0j) <-- not selected (> 0.002)\n",
      "Subdomain number 3 contributes 5 coarse vectors after first GenEO\n",
      "Subdomain number 3 contributes 5 coarse vectors in total\n",
      "There are 19 vectors in the coarse space.\n",
      "  0 KSP Residual norm 6.624560976121e+01 \n",
      "  1 KSP Residual norm 6.711450315405e+00 \n",
      "  2 KSP Residual norm 2.639853055989e-01 \n",
      "  3 KSP Residual norm 1.966555025172e-02 \n",
      "  4 KSP Residual norm 2.688425366721e-03 \n",
      "  5 KSP Residual norm 6.525311068126e-03 \n",
      "  6 KSP Residual norm 2.828111699552e-04 \n",
      "  7 KSP Residual norm 1.567157941521e-04 \n",
      "  8 KSP Residual norm 2.484958746190e-05 \n"
     ]
    }
   ],
   "source": [
    "!mpiexec -np 4 python demo_GenEO_2d.py -AMPCG_verbose -ksp_monitor -PCBNN_verbose -PCBNN_GenEO true -PCBNN_GenEO_eigmax 1000"
   ]
  },
  {
   "cell_type": "code",
   "execution_count": 52,
   "metadata": {},
   "outputs": [],
   "source": [
    "from plot import plot_solution"
   ]
  },
  {
   "cell_type": "code",
   "execution_count": 53,
   "metadata": {},
   "outputs": [
    {
     "data": {
      "application/vnd.jupyter.widget-view+json": {
       "model_id": "f8b0d605f8d44381bdccef63a24e458a",
       "version_major": 2,
       "version_minor": 0
      },
      "text/plain": [
       "HBox(children=(Renderer(camera=PerspectiveCamera(position=(0.0, 0.0, 13.0), quaternion=(0.0, 0.0, 0.0, 1.0), s…"
      ]
     },
     "metadata": {},
     "output_type": "display_data"
    }
   ],
   "source": [
    "plot_solution('output_2d', 'solution_2d.vts')"
   ]
  },
  {
   "cell_type": "markdown",
   "metadata": {},
   "source": [
    "# Test Number 4: Additive Schwarz with GenEO coarse space"
   ]
  },
  {
   "cell_type": "code",
   "execution_count": 57,
   "metadata": {},
   "outputs": [
    {
     "name": "stdout",
     "output_type": "stream",
     "text": [
      "Subdomain number 3 contributes 0 coarse vectors as zero energy modes of local solver\n",
      "Subdomain number 1 contributes 0 coarse vectors as zero energy modes of local solver\n",
      "Subdomain number 2 contributes 0 coarse vectors as zero energy modes of local solver\n",
      "Subdomain number 0 contributes 0 coarse vectors as zero energy modes of local solver\n",
      "This is classical additive Schwarz so eigmax = 2.0, no eigenvalue problem will be solved for eigmax\n",
      "Subdomain number 3 contributes 3 coarse vectors as zero energy modes of the scaled local operator (in GenEO for eigmin)\n",
      "Subdomain number 1 contributes 3 coarse vectors as zero energy modes of the scaled local operator (in GenEO for eigmin)\n",
      "Subdomain number 2 contributes 3 coarse vectors as zero energy modes of the scaled local operator (in GenEO for eigmin)\n",
      "Subdomain number 0 contributes 0 coarse vectors as zero energy modes of the scaled local operator (in GenEO for eigmin)\n",
      "GenEO eigenvalue number 0 for lambdamin in subdomain 1: (1.4945905664998919e-06+0j)\n",
      "GenEO eigenvalue number 1 for lambdamin in subdomain 1: (1.3826304536173795e-05+0j)\n",
      "GenEO eigenvalue number 2 for lambdamin in subdomain 1: (4.50548626988303e-05+0j)\n",
      "GenEO eigenvalue number 3 for lambdamin in subdomain 1: (0.05405868128473561+0j)\n",
      "GenEO eigenvalue number 4 for lambdamin in subdomain 1: (0.05405900902775108+0j)\n",
      "GenEO eigenvalue number 5 for lambdamin in subdomain 1: (0.056663048125548836+0j)\n",
      "GenEO eigenvalue number 6 for lambdamin in subdomain 1: (0.057079622868545725+0j)\n",
      "GenEO eigenvalue number 7 for lambdamin in subdomain 1: (0.15901212849795607+0j) <-- not selected (> 0.1)\n",
      "GenEO eigenvalue number 8 for lambdamin in subdomain 1: (0.15905866059813625+0j) <-- not selected (> 0.1)\n",
      "GenEO eigenvalue number 9 for lambdamin in subdomain 1: (0.22127754627469245+0j) <-- not selected (> 0.1)\n",
      "Subdomain number 1 contributes 10 coarse vectors in total\n",
      "GenEO eigenvalue number 0 for lambdamin in subdomain 2: (1.4945905664998919e-06+0j)\n",
      "GenEO eigenvalue number 1 for lambdamin in subdomain 2: (1.3826304536173795e-05+0j)\n",
      "GenEO eigenvalue number 2 for lambdamin in subdomain 2: (4.50548626988303e-05+0j)\n",
      "GenEO eigenvalue number 3 for lambdamin in subdomain 2: (0.05405868128473561+0j)\n",
      "GenEO eigenvalue number 4 for lambdamin in subdomain 2: (0.05405900902775108+0j)\n",
      "GenEO eigenvalue number 5 for lambdamin in subdomain 2: (0.056663048125548836+0j)\n",
      "GenEO eigenvalue number 6 for lambdamin in subdomain 2: (0.057079622868545725+0j)\n",
      "GenEO eigenvalue number 7 for lambdamin in subdomain 2: (0.15901212849795607+0j) <-- not selected (> 0.1)\n",
      "GenEO eigenvalue number 8 for lambdamin in subdomain 2: (0.15905866059813625+0j) <-- not selected (> 0.1)\n",
      "GenEO eigenvalue number 9 for lambdamin in subdomain 2: (0.22127754627469245+0j) <-- not selected (> 0.1)\n",
      "Subdomain number 2 contributes 10 coarse vectors in total\n",
      "GenEO eigenvalue number 0 for lambdamin in subdomain 0: (0.00031732419878850027+0j)\n",
      "GenEO eigenvalue number 1 for lambdamin in subdomain 0: (0.000337024026159405+0j)\n",
      "GenEO eigenvalue number 2 for lambdamin in subdomain 0: (0.02828240156782746+0j)\n",
      "GenEO eigenvalue number 3 for lambdamin in subdomain 0: (0.028283168511413152+0j)\n",
      "GenEO eigenvalue number 4 for lambdamin in subdomain 0: (0.11198298627142439+0j) <-- not selected (> 0.1)\n",
      "GenEO eigenvalue number 5 for lambdamin in subdomain 0: (0.11219184197639483+0j) <-- not selected (> 0.1)\n",
      "GenEO eigenvalue number 6 for lambdamin in subdomain 0: (0.22129077270330266+0j) <-- not selected (> 0.1)\n",
      "GenEO eigenvalue number 7 for lambdamin in subdomain 0: (0.22129077350512905+0j) <-- not selected (> 0.1)\n",
      "GenEO eigenvalue number 8 for lambdamin in subdomain 0: (0.5564840670455389+0j) <-- not selected (> 0.1)\n",
      "GenEO eigenvalue number 9 for lambdamin in subdomain 0: (0.583981324318522+0j) <-- not selected (> 0.1)\n",
      "Subdomain number 0 contributes 4 coarse vectors in total\n",
      "GenEO eigenvalue number 0 for lambdamin in subdomain 3: (2.1208234835773963e-05+0j)\n",
      "GenEO eigenvalue number 1 for lambdamin in subdomain 3: (3.185852816809118e-05+0j)\n",
      "GenEO eigenvalue number 2 for lambdamin in subdomain 3: (0.008267951049446151+0j)\n",
      "GenEO eigenvalue number 3 for lambdamin in subdomain 3: (0.22129069514149086+0j) <-- not selected (> 0.1)\n",
      "GenEO eigenvalue number 4 for lambdamin in subdomain 3: (0.2212906978919247+0j) <-- not selected (> 0.1)\n",
      "GenEO eigenvalue number 5 for lambdamin in subdomain 3: (0.5564838682522147+0j) <-- not selected (> 0.1)\n",
      "GenEO eigenvalue number 6 for lambdamin in subdomain 3: (0.5839813228930905+0j) <-- not selected (> 0.1)\n",
      "GenEO eigenvalue number 7 for lambdamin in subdomain 3: (0.5839813229104335+0j) <-- not selected (> 0.1)\n",
      "GenEO eigenvalue number 8 for lambdamin in subdomain 3: (0.6574284065235094+0j) <-- not selected (> 0.1)\n",
      "GenEO eigenvalue number 9 for lambdamin in subdomain 3: (0.6574287754614396+0j) <-- not selected (> 0.1)\n",
      "GenEO eigenvalue number 10 for lambdamin in subdomain 3: (0.8078884348443135+0j) <-- not selected (> 0.1)\n",
      "Subdomain number 3 contributes 6 coarse vectors in total\n",
      "There are 30 vectors in the coarse space.\n",
      "  0 KSP Residual norm 4.629956323307e+00 \n",
      "  1 KSP Residual norm 1.917574145272e+00 \n",
      "  2 KSP Residual norm 2.274917072641e+00 \n",
      "  3 KSP Residual norm 3.455852217900e-01 \n",
      "  4 KSP Residual norm 1.939840305095e-01 \n",
      "  5 KSP Residual norm 2.326484704770e-01 \n",
      "  6 KSP Residual norm 9.964194825022e-02 \n",
      "  7 KSP Residual norm 1.894197333471e-02 \n",
      "  8 KSP Residual norm 4.350109326674e-03 \n",
      "  9 KSP Residual norm 3.511853352027e-03 \n",
      " 10 KSP Residual norm 9.025485616876e-04 \n",
      " 11 KSP Residual norm 1.104180048616e-04 \n",
      " 12 KSP Residual norm 6.028934558153e-05 \n",
      " 13 KSP Residual norm 3.166941438989e-05 \n",
      " 14 KSP Residual norm 9.795003400627e-06 \n",
      "The user has chosen to switch to Additive Schwarz instead of BNN.\n"
     ]
    }
   ],
   "source": [
    "!mpiexec -np 4 python demo_GenEO_2d.py -AMPCG_verbose -ksp_monitor -PCBNN_verbose -PCBNN_GenEO true -PCBNN_switchtoASM true"
   ]
  },
  {
   "cell_type": "code",
   "execution_count": 58,
   "metadata": {},
   "outputs": [],
   "source": [
    "from plot import plot_solution"
   ]
  },
  {
   "cell_type": "code",
   "execution_count": 59,
   "metadata": {},
   "outputs": [
    {
     "data": {
      "application/vnd.jupyter.widget-view+json": {
       "model_id": "8c0c60bf9f7d4f0e9f50fa18eb613772",
       "version_major": 2,
       "version_minor": 0
      },
      "text/plain": [
       "HBox(children=(Renderer(camera=PerspectiveCamera(position=(0.0, 0.0, 13.0), quaternion=(0.0, 0.0, 0.0, 1.0), s…"
      ]
     },
     "metadata": {},
     "output_type": "display_data"
    }
   ],
   "source": [
    "plot_solution('output_2d', 'solution_2d.vts')"
   ]
  },
  {
   "cell_type": "code",
   "execution_count": null,
   "metadata": {},
   "outputs": [],
   "source": []
  }
 ],
 "metadata": {
  "kernelspec": {
   "display_name": "Python 3",
   "language": "python",
   "name": "python3"
  },
  "language_info": {
   "codemirror_mode": {
    "name": "ipython",
    "version": 3
   },
   "file_extension": ".py",
   "mimetype": "text/x-python",
   "name": "python",
   "nbconvert_exporter": "python",
   "pygments_lexer": "ipython3",
   "version": "3.6.5"
  }
 },
 "nbformat": 4,
 "nbformat_minor": 2
}
