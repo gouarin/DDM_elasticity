{
 "cells": [
  {
   "cell_type": "markdown",
   "metadata": {},
   "source": [
    "# Test number 1: BNN + GenEO "
   ]
  },
  {
   "cell_type": "code",
   "execution_count": 3,
   "metadata": {},
   "outputs": [
    {
     "name": "stdout",
     "output_type": "stream",
     "text": [
      "Subdomain number 0 contributes 0 coarse vectors as zero energy modes of local solver\n",
      "Subdomain number 1 contributes 3 coarse vectors as zero energy modes of local solver\n",
      "Subdomain number 3 contributes 3 coarse vectors as zero energy modes of local solver\n",
      "Subdomain number 2 contributes 3 coarse vectors as zero energy modes of local solver\n",
      "GenEO eigenvalue number 0 for lambdamax in subdomain 1: (1.4945905664998919e-06+0j)\n",
      "GenEO eigenvalue number 1 for lambdamax in subdomain 1: (1.3826304536173795e-05+0j)\n",
      "GenEO eigenvalue number 2 for lambdamax in subdomain 1: (4.50548626988303e-05+0j)\n",
      "GenEO eigenvalue number 3 for lambdamax in subdomain 1: (0.05405868128473561+0j) <-- not selected (> 0.002)\n",
      "GenEO eigenvalue number 4 for lambdamax in subdomain 1: (0.05405900902775108+0j) <-- not selected (> 0.002)\n",
      "GenEO eigenvalue number 5 for lambdamax in subdomain 1: (0.056663048125548836+0j) <-- not selected (> 0.002)\n",
      "GenEO eigenvalue number 6 for lambdamax in subdomain 1: (0.057079622868545725+0j) <-- not selected (> 0.002)\n",
      "GenEO eigenvalue number 7 for lambdamax in subdomain 1: (0.15901212849795607+0j) <-- not selected (> 0.002)\n",
      "GenEO eigenvalue number 8 for lambdamax in subdomain 1: (0.15905866059813625+0j) <-- not selected (> 0.002)\n",
      "GenEO eigenvalue number 9 for lambdamax in subdomain 1: (0.22127754627469245+0j) <-- not selected (> 0.002)\n",
      "Subdomain number 1 contributes 6 coarse vectors after first GenEO\n",
      "Subdomain number 1 contributes 6 coarse vectors in total\n",
      "GenEO eigenvalue number 0 for lambdamax in subdomain 2: (1.4945905664998919e-06+0j)\n",
      "GenEO eigenvalue number 1 for lambdamax in subdomain 2: (1.3826304536173795e-05+0j)\n",
      "GenEO eigenvalue number 2 for lambdamax in subdomain 2: (4.50548626988303e-05+0j)\n",
      "GenEO eigenvalue number 3 for lambdamax in subdomain 2: (0.05405868128473561+0j) <-- not selected (> 0.002)\n",
      "GenEO eigenvalue number 4 for lambdamax in subdomain 2: (0.05405900902775108+0j) <-- not selected (> 0.002)\n",
      "GenEO eigenvalue number 5 for lambdamax in subdomain 2: (0.056663048125548836+0j) <-- not selected (> 0.002)\n",
      "GenEO eigenvalue number 6 for lambdamax in subdomain 2: (0.057079622868545725+0j) <-- not selected (> 0.002)\n",
      "GenEO eigenvalue number 7 for lambdamax in subdomain 2: (0.15901212849795607+0j) <-- not selected (> 0.002)\n",
      "GenEO eigenvalue number 8 for lambdamax in subdomain 2: (0.15905866059813625+0j) <-- not selected (> 0.002)\n",
      "GenEO eigenvalue number 9 for lambdamax in subdomain 2: (0.22127754627469245+0j) <-- not selected (> 0.002)\n",
      "Subdomain number 2 contributes 6 coarse vectors after first GenEO\n",
      "Subdomain number 2 contributes 6 coarse vectors in total\n",
      "GenEO eigenvalue number 0 for lambdamax in subdomain 0: (0.00031732419878850027+0j)\n",
      "GenEO eigenvalue number 1 for lambdamax in subdomain 0: (0.000337024026159405+0j)\n",
      "GenEO eigenvalue number 2 for lambdamax in subdomain 0: (0.02828240156782746+0j) <-- not selected (> 0.002)\n",
      "GenEO eigenvalue number 3 for lambdamax in subdomain 0: (0.028283168511413152+0j) <-- not selected (> 0.002)\n",
      "GenEO eigenvalue number 4 for lambdamax in subdomain 0: (0.11198298627142439+0j) <-- not selected (> 0.002)\n",
      "GenEO eigenvalue number 5 for lambdamax in subdomain 0: (0.11219184197639483+0j) <-- not selected (> 0.002)\n",
      "GenEO eigenvalue number 6 for lambdamax in subdomain 0: (0.22129077270330266+0j) <-- not selected (> 0.002)\n",
      "GenEO eigenvalue number 7 for lambdamax in subdomain 0: (0.22129077350512905+0j) <-- not selected (> 0.002)\n",
      "GenEO eigenvalue number 8 for lambdamax in subdomain 0: (0.5564840670455389+0j) <-- not selected (> 0.002)\n",
      "GenEO eigenvalue number 9 for lambdamax in subdomain 0: (0.583981324318522+0j) <-- not selected (> 0.002)\n",
      "Subdomain number 0 contributes 2 coarse vectors after first GenEO\n",
      "This is BNN so eigmin = 1, no eigenvalue problem will be solved for eigmin\n",
      "Subdomain number 0 contributes 2 coarse vectors in total\n",
      "GenEO eigenvalue number 0 for lambdamax in subdomain 3: (2.1208234835773963e-05+0j)\n",
      "GenEO eigenvalue number 1 for lambdamax in subdomain 3: (3.185852816809118e-05+0j)\n",
      "GenEO eigenvalue number 2 for lambdamax in subdomain 3: (0.008267951049446151+0j) <-- not selected (> 0.002)\n",
      "GenEO eigenvalue number 3 for lambdamax in subdomain 3: (0.22129069514149086+0j) <-- not selected (> 0.002)\n",
      "GenEO eigenvalue number 4 for lambdamax in subdomain 3: (0.2212906978919247+0j) <-- not selected (> 0.002)\n",
      "GenEO eigenvalue number 5 for lambdamax in subdomain 3: (0.5564838682522147+0j) <-- not selected (> 0.002)\n",
      "GenEO eigenvalue number 6 for lambdamax in subdomain 3: (0.5839813228930905+0j) <-- not selected (> 0.002)\n",
      "GenEO eigenvalue number 7 for lambdamax in subdomain 3: (0.5839813229104335+0j) <-- not selected (> 0.002)\n",
      "GenEO eigenvalue number 8 for lambdamax in subdomain 3: (0.6574284065235094+0j) <-- not selected (> 0.002)\n",
      "GenEO eigenvalue number 9 for lambdamax in subdomain 3: (0.6574287754614396+0j) <-- not selected (> 0.002)\n",
      "GenEO eigenvalue number 10 for lambdamax in subdomain 3: (0.8078884348443135+0j) <-- not selected (> 0.002)\n",
      "Subdomain number 3 contributes 5 coarse vectors after first GenEO\n",
      "Subdomain number 3 contributes 5 coarse vectors in total\n",
      "There are 19 vectors in the coarse space.\n",
      "  0 KSP Residual norm 9.515337425656e+00 \n",
      "  1 KSP Residual norm 2.241544961175e+00 \n",
      "  2 KSP Residual norm 2.096050355676e-01 \n",
      "  3 KSP Residual norm 2.583843905745e-02 \n",
      "  4 KSP Residual norm 2.926818799930e-03 \n",
      "  5 KSP Residual norm 2.212558964096e-03 \n",
      "  6 KSP Residual norm 3.194596885461e-04 \n",
      "  7 KSP Residual norm 5.663760467203e-05 \n",
      "  8 KSP Residual norm 1.603298440269e-05 \n"
     ]
    }
   ],
   "source": [
    "!mpiexec -np 4 python demo_elasticity_2d.py -ksp_monitor -PCBNN_verbose -AMPCG_tau 0 -PCBNN_GenEO true -PCBNN_GenEO_eigmax 1000"
   ]
  },
  {
   "cell_type": "code",
   "execution_count": 4,
   "metadata": {},
   "outputs": [],
   "source": [
    "from plot import plot_solution"
   ]
  },
  {
   "cell_type": "code",
   "execution_count": 5,
   "metadata": {},
   "outputs": [
    {
     "data": {
      "application/vnd.jupyter.widget-view+json": {
       "model_id": "808feb5281f74df5a8e8318c3c249768",
       "version_major": 2,
       "version_minor": 0
      },
      "text/plain": [
       "HBox(children=(Renderer(camera=PerspectiveCamera(position=(0.0, 0.0, 13.0), quaternion=(0.0, 0.0, 0.0, 1.0), s…"
      ]
     },
     "metadata": {},
     "output_type": "display_data"
    }
   ],
   "source": [
    "plot_solution('output_2d', 'solution_2d.vts')"
   ]
  },
  {
   "cell_type": "markdown",
   "metadata": {},
   "source": [
    "# Test number 2: turn GenEO off, use AMPCG instead"
   ]
  },
  {
   "cell_type": "code",
   "execution_count": 20,
   "metadata": {},
   "outputs": [
    {
     "name": "stdout",
     "output_type": "stream",
     "text": [
      "Subdomain number 0 contributes 0 coarse vectors as zero energy modes of local solver\n",
      "Subdomain number 0 contributes 0 coarse vectors in total\n",
      "Subdomain number 2 contributes 3 coarse vectors as zero energy modes of local solver\n",
      "Subdomain number 2 contributes 3 coarse vectors in total\n",
      "Subdomain number 3 contributes 3 coarse vectors as zero energy modes of local solver\n",
      "Subdomain number 3 contributes 3 coarse vectors in total\n",
      "Subdomain number 1 contributes 3 coarse vectors as zero energy modes of local solver\n",
      "Subdomain number 1 contributes 3 coarse vectors in total\n",
      "There are 9 vectors in the coarse space.\n",
      "multipreconditioning initial iteration\n",
      "  0 KSP Residual norm 2.004620137237e+02 \n",
      "\tnatural_norm -> 2.00462014e+02\n",
      "\tti -> 0.00000000e+00\n",
      "multipreconditioning this iteration\n",
      "  1 KSP Residual norm 4.374834889822e+01 \n",
      "\tnatural_norm -> 4.37483489e+01\n",
      "\tti -> 7.47459199e-02\n",
      "multipreconditioning this iteration\n",
      "  2 KSP Residual norm 2.958660474104e+01 \n",
      "\tnatural_norm -> 2.95866047e+01\n",
      "\tti -> 2.30814813e-04\n",
      "  3 KSP Residual norm 1.024756124738e+01 \n",
      "\tnatural_norm -> 1.02475612e+01\n",
      "\tti -> 5.65467225e-01\n",
      "  4 KSP Residual norm 9.372881944792e+00 \n",
      "\tnatural_norm -> 9.37288194e+00\n",
      "\tti -> 4.89892005e-01\n",
      "  5 KSP Residual norm 2.352576245704e+00 \n",
      "\tnatural_norm -> 2.35257625e+00\n",
      "\tti -> 3.99665534e+00\n",
      "  6 KSP Residual norm 7.435142457016e-01 \n",
      "\tnatural_norm -> 7.43514246e-01\n",
      "\tti -> 5.03562243e+00\n",
      "  7 KSP Residual norm 2.836240353516e-01 \n",
      "\tnatural_norm -> 2.83624035e-01\n",
      "\tti -> 1.11134346e+00\n",
      "  8 KSP Residual norm 5.349669612876e-02 \n",
      "\tnatural_norm -> 5.34966961e-02\n",
      "\tti -> 1.18963143e+01\n",
      "  9 KSP Residual norm 2.654179102227e-02 \n",
      "\tnatural_norm -> 2.65417910e-02\n",
      "\tti -> 2.86041402e+00\n",
      " 10 KSP Residual norm 1.551138868191e-02 \n",
      "\tnatural_norm -> 1.55113887e-02\n",
      "\tti -> 6.35645347e-01\n",
      " 11 KSP Residual norm 1.674046825134e-03 \n",
      "\tnatural_norm -> 1.67404683e-03\n",
      "\tti -> 2.60090408e+01\n",
      " 12 KSP Residual norm 3.869276328107e-04 \n",
      "\tnatural_norm -> 3.86927633e-04\n",
      "\tti -> 9.40814819e+00\n",
      " 13 KSP Residual norm 7.112427250975e-05 \n",
      "\tnatural_norm -> 7.11242725e-05\n",
      "\tti -> 1.70597722e+01\n",
      " 14 KSP Residual norm 1.700669127269e-05 \n",
      "\tnatural_norm -> 1.70066913e-05\n",
      "\tti -> 8.37961941e+00\n"
     ]
    }
   ],
   "source": [
    "!mpiexec -np 4 python demo_elasticity_2d.py -ksp_monitor -PCBNN_verbose -AMPCG_verbose -AMPCG_tau 0.1 -PCBNN_GenEO false "
   ]
  },
  {
   "cell_type": "markdown",
   "metadata": {},
   "source": [
    "# Test number 3: turn GenEO off, use AMPCG, switch to Additive Schwarz\n",
    "\n",
    "In this case the $\\tau$-test is useless (because the lower part of the spectrum is problematic) so we turn it off with -AMPCG_fullMP true which means that every iteration is preconditioned"
   ]
  },
  {
   "cell_type": "code",
   "execution_count": 27,
   "metadata": {},
   "outputs": [
    {
     "name": "stdout",
     "output_type": "stream",
     "text": [
      "Subdomain number 0 contributes 0 coarse vectors as zero energy modes of local solver\n",
      "Subdomain number 0 contributes 0 coarse vectors in total\n",
      "Subdomain number 1 contributes 0 coarse vectors as zero energy modes of local solver\n",
      "Subdomain number 1 contributes 0 coarse vectors in total\n",
      "Subdomain number 3 contributes 0 coarse vectors as zero energy modes of local solver\n",
      "Subdomain number 3 contributes 0 coarse vectors in total\n",
      "Subdomain number 2 contributes 0 coarse vectors as zero energy modes of local solver\n",
      "Subdomain number 2 contributes 0 coarse vectors in total\n",
      "There are 0 vectors in the coarse space.\n",
      "  0 KSP Residual norm 1.724079391948e+00 \n",
      "  1 KSP Residual norm 3.373302734620e-01 \n",
      "  2 KSP Residual norm 2.042876162652e-01 \n",
      "  3 KSP Residual norm 2.156223995825e-01 \n",
      "  4 KSP Residual norm 1.352561227537e-01 \n",
      "  5 KSP Residual norm 1.394282296617e-01 \n",
      "  6 KSP Residual norm 1.942448996462e-01 \n",
      "  7 KSP Residual norm 3.226564021405e-01 \n",
      "  8 KSP Residual norm 4.706847737152e-01 \n",
      "  9 KSP Residual norm 2.371689132961e-01 \n",
      " 10 KSP Residual norm 2.980361011780e-01 \n",
      " 11 KSP Residual norm 1.595884699561e+00 \n",
      " 12 KSP Residual norm 1.225731066168e+00 \n",
      " 13 KSP Residual norm 1.897029612039e+00 \n",
      " 14 KSP Residual norm 2.235756188488e+00 \n",
      " 15 KSP Residual norm 9.182952504864e-01 \n",
      " 16 KSP Residual norm 1.008821918711e+00 \n",
      " 17 KSP Residual norm 7.352606541739e-01 \n",
      " 18 KSP Residual norm 1.109783858030e+00 \n",
      " 19 KSP Residual norm 1.915718015888e+00 \n",
      " 20 KSP Residual norm 2.137624959433e+00 \n",
      " 21 KSP Residual norm 3.282707169280e+00 \n",
      " 22 KSP Residual norm 1.779952191581e+00 \n",
      " 23 KSP Residual norm 4.179893103943e+00 \n",
      " 24 KSP Residual norm 2.662842447312e+00 \n",
      " 25 KSP Residual norm 4.356863199631e-01 \n",
      " 26 KSP Residual norm 6.535740250174e-01 \n",
      " 27 KSP Residual norm 1.877314612210e-01 \n",
      " 28 KSP Residual norm 2.969217498047e-01 \n",
      " 29 KSP Residual norm 3.488066771286e-01 \n",
      " 30 KSP Residual norm 2.286641705517e-02 \n",
      " 31 KSP Residual norm 5.661112034503e-03 \n",
      " 32 KSP Residual norm 1.621188350475e-02 \n",
      " 33 KSP Residual norm 2.487127228853e-02 \n",
      " 34 KSP Residual norm 2.213783640827e-02 \n",
      " 35 KSP Residual norm 5.326845849034e-03 \n",
      " 36 KSP Residual norm 4.308325346100e-04 \n",
      " 37 KSP Residual norm 2.007798486100e-05 \n",
      " 38 KSP Residual norm 5.067321276376e-07 \n",
      "The user has chosen to switch to Additive Schwarz instead of BNN.\n"
     ]
    }
   ],
   "source": [
    "!mpiexec -np 4 python demo_elasticity_2d.py -ksp_monitor -PCBNN_verbose -AMPCG_fullMP true -PCBNN_GenEO false -PCBNN_switchtoASM true"
   ]
  },
  {
   "cell_type": "markdown",
   "metadata": {},
   "source": [
    "# Test number 4: turn GenEO off, don't use AMPCG, switch to Additive Schwarz"
   ]
  },
  {
   "cell_type": "code",
   "execution_count": 24,
   "metadata": {},
   "outputs": [
    {
     "name": "stdout",
     "output_type": "stream",
     "text": [
      "Subdomain number 0 contributes 0 coarse vectors as zero energy modes of local solver\n",
      "Subdomain number 0 contributes 0 coarse vectors in total\n",
      "Subdomain number 3 contributes 0 coarse vectors as zero energy modes of local solver\n",
      "Subdomain number 3 contributes 0 coarse vectors in total\n",
      "Subdomain number 2 contributes 0 coarse vectors as zero energy modes of local solver\n",
      "Subdomain number 2 contributes 0 coarse vectors in total\n",
      "Subdomain number 1 contributes 0 coarse vectors as zero energy modes of local solver\n",
      "Subdomain number 1 contributes 0 coarse vectors in total\n",
      "There are 0 vectors in the coarse space.\n",
      "  0 KSP Residual norm 1.724079391948e+00 \n",
      "  1 KSP Residual norm 3.374962873767e-01 \n",
      "  2 KSP Residual norm 1.469748887213e-01 \n",
      "  3 KSP Residual norm 2.729956941434e-01 \n",
      "  4 KSP Residual norm 1.497379150634e-01 \n",
      "  5 KSP Residual norm 8.711268434157e-02 \n",
      "  6 KSP Residual norm 9.932062571167e-02 \n",
      "  7 KSP Residual norm 1.308938077460e-01 \n",
      "  8 KSP Residual norm 7.113892815767e-02 \n",
      "  9 KSP Residual norm 3.268246252896e-01 \n",
      " 10 KSP Residual norm 2.787796870987e-01 \n",
      " 11 KSP Residual norm 3.532500573758e-01 \n",
      " 12 KSP Residual norm 8.707159935599e-01 \n",
      " 13 KSP Residual norm 3.080199842838e-01 \n",
      " 14 KSP Residual norm 9.663025317548e-02 \n",
      " 15 KSP Residual norm 1.767978874210e-01 \n",
      " 16 KSP Residual norm 2.783133361373e-01 \n",
      " 17 KSP Residual norm 3.797967838811e-01 \n",
      " 18 KSP Residual norm 2.444097106055e+00 \n",
      " 19 KSP Residual norm 4.703851913308e+00 \n",
      " 20 KSP Residual norm 1.730876883229e+00 \n",
      " 21 KSP Residual norm 2.363568680434e+00 \n",
      " 22 KSP Residual norm 6.055456443795e+00 \n",
      " 23 KSP Residual norm 2.194455973209e+00 \n",
      " 24 KSP Residual norm 5.704302736143e-01 \n",
      " 25 KSP Residual norm 1.433095625555e+00 \n",
      " 26 KSP Residual norm 6.403771934272e-01 \n",
      " 27 KSP Residual norm 2.144832856722e-01 \n",
      " 28 KSP Residual norm 1.400619568774e-01 \n",
      " 29 KSP Residual norm 1.318994677386e-01 \n",
      " 30 KSP Residual norm 2.562475803349e-01 \n",
      " 31 KSP Residual norm 4.513054427684e-01 \n",
      " 32 KSP Residual norm 4.926134854673e-01 \n",
      " 33 KSP Residual norm 4.476392875346e-01 \n",
      " 34 KSP Residual norm 1.341720524883e-01 \n",
      " 35 KSP Residual norm 1.439982788062e-01 \n",
      " 36 KSP Residual norm 1.268024381580e-01 \n",
      " 37 KSP Residual norm 1.941361762643e-02 \n",
      " 38 KSP Residual norm 1.108621975054e-02 \n",
      " 39 KSP Residual norm 5.672759471272e-02 \n",
      " 40 KSP Residual norm 1.726584302346e-01 \n",
      " 41 KSP Residual norm 1.214267969647e-01 \n",
      " 42 KSP Residual norm 1.436956042886e-01 \n",
      " 43 KSP Residual norm 2.131262475341e-01 \n",
      " 44 KSP Residual norm 1.080989741139e-01 \n",
      " 45 KSP Residual norm 1.428279934803e-01 \n",
      " 46 KSP Residual norm 3.100148684029e-02 \n",
      " 47 KSP Residual norm 1.226502614984e-02 \n",
      " 48 KSP Residual norm 4.119698055525e-03 \n",
      " 49 KSP Residual norm 3.077879998865e-03 \n",
      " 50 KSP Residual norm 1.091483936232e-03 \n",
      " 51 KSP Residual norm 3.214341634282e-04 \n",
      " 52 KSP Residual norm 7.505527012100e-04 \n",
      " 53 KSP Residual norm 8.117733855838e-04 \n",
      " 54 KSP Residual norm 8.653837686287e-05 \n",
      " 55 KSP Residual norm 1.413253967634e-05 \n",
      "The user has chosen to switch to Additive Schwarz instead of BNN.\n"
     ]
    }
   ],
   "source": [
    "!mpiexec -np 4 python demo_elasticity_2d.py -ksp_monitor -PCBNN_verbose -AMPCG_tau 0 -PCBNN_GenEO false -PCBNN_switchtoASM true"
   ]
  },
  {
   "cell_type": "code",
   "execution_count": null,
   "metadata": {},
   "outputs": [],
   "source": []
  }
 ],
 "metadata": {
  "kernelspec": {
   "display_name": "Python 3",
   "language": "python",
   "name": "python3"
  },
  "language_info": {
   "codemirror_mode": {
    "name": "ipython",
    "version": 3
   },
   "file_extension": ".py",
   "mimetype": "text/x-python",
   "name": "python",
   "nbconvert_exporter": "python",
   "pygments_lexer": "ipython3",
   "version": "3.6.5"
  }
 },
 "nbformat": 4,
 "nbformat_minor": 2
}
