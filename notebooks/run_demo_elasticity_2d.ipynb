{
 "cells": [
  {
   "cell_type": "markdown",
   "metadata": {},
   "source": [
    "# Test number 1: BNN + GenEO "
   ]
  },
  {
   "cell_type": "code",
   "execution_count": null,
   "metadata": {},
   "outputs": [],
   "source": [
    "!mpiexec -np 4 python demo_elasticity_2d.py -ksp_monitor -PCBNN_verbose -AMPCG_tau 0 -PCBNN_GenEO true -PCBNN_GenEO_eigmax 1000"
   ]
  },
  {
   "cell_type": "code",
   "execution_count": null,
   "metadata": {},
   "outputs": [],
   "source": [
    "from plot import plot_solution"
   ]
  },
  {
   "cell_type": "code",
   "execution_count": null,
   "metadata": {},
   "outputs": [],
   "source": [
    "plot_solution('output_2d', 'solution_2d.vts')"
   ]
  },
  {
   "cell_type": "markdown",
   "metadata": {},
   "source": [
    "# Test number 2: turn GenEO off, use AMPCG instead"
   ]
  },
  {
   "cell_type": "code",
   "execution_count": null,
   "metadata": {},
   "outputs": [],
   "source": [
    "!mpiexec -np 4 python demo_elasticity_2d.py -ksp_monitor -PCBNN_verbose -AMPCG_verbose -AMPCG_tau 0.1 -PCBNN_GenEO false "
   ]
  },
  {
   "cell_type": "markdown",
   "metadata": {},
   "source": [
    "# Test number 3: turn GenEO off, use AMPCG, switch to Additive Schwarz\n",
    "\n",
    "In this case the $\\tau$-test is useless (because the lower part of the spectrum is problematic) so we turn it off with -AMPCG_fullMP true which means that every iteration is preconditioned"
   ]
  },
  {
   "cell_type": "code",
   "execution_count": null,
   "metadata": {},
   "outputs": [],
   "source": [
    "!mpiexec -np 4 python demo_elasticity_2d.py -ksp_monitor -PCBNN_verbose -AMPCG_fullMP true -PCBNN_GenEO false -PCBNN_switchtoASM true"
   ]
  },
  {
   "cell_type": "markdown",
   "metadata": {},
   "source": [
    "# Test number 4: turn GenEO off, don't use AMPCG, switch to Additive Schwarz"
   ]
  },
  {
   "cell_type": "code",
   "execution_count": null,
   "metadata": {},
   "outputs": [],
   "source": [
    "!mpiexec -np 4 python demo_elasticity_2d.py -ksp_monitor -PCBNN_verbose -AMPCG_tau 0 -PCBNN_GenEO false -PCBNN_switchtoASM true"
   ]
  },
  {
   "cell_type": "code",
   "execution_count": null,
   "metadata": {},
   "outputs": [],
   "source": []
  }
 ],
 "metadata": {
  "kernelspec": {
   "display_name": "Python 3",
   "language": "python",
   "name": "python3"
  },
  "language_info": {
   "codemirror_mode": {
    "name": "ipython",
    "version": 3
   },
   "file_extension": ".py",
   "mimetype": "text/x-python",
   "name": "python",
   "nbconvert_exporter": "python",
   "pygments_lexer": "ipython3",
   "version": "3.6.5"
  }
 },
 "nbformat": 4,
 "nbformat_minor": 2
}
